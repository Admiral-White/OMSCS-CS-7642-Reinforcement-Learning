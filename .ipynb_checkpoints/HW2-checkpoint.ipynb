{
 "cells": [
  {
   "cell_type": "code",
   "execution_count": 153,
   "metadata": {},
   "outputs": [],
   "source": [
    "from scipy.optimize import fsolve,leastsq\n",
    "import numpy as np"
   ]
  },
  {
   "cell_type": "code",
   "execution_count": 154,
   "metadata": {},
   "outputs": [],
   "source": [
    "# Temporal Difference Learning"
   ]
  },
  {
   "cell_type": "code",
   "execution_count": 219,
   "metadata": {},
   "outputs": [],
   "source": [
    "class TD_lambda:\n",
    "    def __init__(self, probToState,valueEstimates,rewards):\n",
    "        self.probToState = probToState\n",
    "        self.valueEstimates = valueEstimates\n",
    "        self.rewards = rewards\n",
    "        self.td1 = self.get_vs0(1)\n",
    "    def get_vs0(self,lambda_):\n",
    "        probToState = self.probToState\n",
    "        valueEstimates = self.valueEstimates\n",
    "        rewards = self.rewards\n",
    "        vs = dict(zip(['vs0','vs1','vs2','vs3','vs4','vs5','vs6'],list(valueEstimates)))\n",
    "\n",
    "        vs5 = vs['vs5'] + 1*(rewards[6]+1*vs['vs6']-vs['vs5'])\n",
    "        vs4 = vs['vs4'] + 1*(rewards[5]+lambda_*rewards[6]+lambda_*vs['vs6']+(1-lambda_)*vs['vs5']-vs['vs4'])\n",
    "        vs3 = vs['vs3'] + 1*(rewards[4]+lambda_*rewards[5]+lambda_**2*rewards[6]+lambda_**2*vs['vs6']+lambda_*(1-lambda_)*vs['vs5']+(1-lambda_)*vs['vs4']-vs['vs3'])\n",
    "        vs1 = vs['vs1'] + 1*(rewards[2]+lambda_*rewards[4]+lambda_**2*rewards[5]+lambda_**3*rewards[6]+lambda_**3*vs['vs6']+lambda_**2*(1-lambda_)*vs['vs5']+lambda_*(1-lambda_)*vs['vs4']+\\\n",
    "                             (1-lambda_)*vs['vs3']-vs['vs1'])\n",
    "        vs2 = vs['vs2'] + 1*(rewards[3]+lambda_*rewards[4]+lambda_**2*rewards[5]+lambda_**3*rewards[6]+lambda_**3*vs['vs6']+lambda_**2*(1-lambda_)*vs['vs5']+lambda_*(1-lambda_)*vs['vs4']+\\\n",
    "                             (1-lambda_)*vs['vs3']-vs['vs2'])\n",
    "        vs0 = vs['vs0'] + probToState*(rewards[0]+lambda_*rewards[2]+lambda_**2*rewards[4]+lambda_**3*rewards[5]+lambda_**4*rewards[6]+lambda_**4*vs['vs6']+lambda_**3*(1-lambda_)*vs['vs5']+\\\n",
    "                                       +lambda_**2*(1-lambda_)*vs['vs4']+lambda_*(1-lambda_)*vs['vs3']+(1-lambda_)*vs['vs1']-vs['vs0']) +\\\n",
    "                (1-probToState)*(rewards[1]+lambda_*rewards[3]+lambda_**2*rewards[4]+lambda_**3*rewards[5]+lambda_**4*rewards[6]+lambda_**4*vs['vs6']+lambda_**3*(1-lambda_)*vs['vs5']+\\\n",
    "                                       +lambda_**2*(1-lambda_)*vs['vs4']+lambda_*(1-lambda_)*vs['vs3']+(1-lambda_)*vs['vs2']-vs['vs0'])\n",
    "        return vs0\n",
    "    def get_lambda(self,x0=np.linspace(0.1,1,10)):\n",
    "        return fsolve(lambda lambda_:self.get_vs0(lambda_)-self.td1, x0)"
   ]
  },
  {
   "cell_type": "code",
   "execution_count": 220,
   "metadata": {},
   "outputs": [],
   "source": [
    "# 1"
   ]
  },
  {
   "cell_type": "code",
   "execution_count": 221,
   "metadata": {},
   "outputs": [],
   "source": [
    "probToState=0.12\n",
    "valueEstimates=[0.0,4.1,10.9,0.0,10.1,0.0,0.0]\n",
    "rewards=[0.0,5.3,3.6,4.0,-1.2,0.4,5.3]"
   ]
  },
  {
   "cell_type": "code",
   "execution_count": 222,
   "metadata": {},
   "outputs": [
    {
     "data": {
      "text/plain": [
       "array([0.45398786, 0.45398786, 0.45398786, 0.45398786, 0.45398786,\n",
       "       0.45398786, 0.45398786, 1.        , 1.        , 1.        ])"
      ]
     },
     "execution_count": 222,
     "metadata": {},
     "output_type": "execute_result"
    }
   ],
   "source": [
    "TD = TD_lambda(probToState,valueEstimates,rewards)\n",
    "TD.get_lambda()"
   ]
  },
  {
   "cell_type": "code",
   "execution_count": 223,
   "metadata": {},
   "outputs": [],
   "source": [
    "# 2"
   ]
  },
  {
   "cell_type": "code",
   "execution_count": 224,
   "metadata": {},
   "outputs": [],
   "source": [
    "probToState=0.34\n",
    "valueEstimates=[0.0,23.1,0.0,3.6,8.5,20.1,0.0]\n",
    "rewards=[-4.9,5.8,-4.3,2.0,8.9,-1.8,3.5]"
   ]
  },
  {
   "cell_type": "code",
   "execution_count": 225,
   "metadata": {},
   "outputs": [
    {
     "data": {
      "text/plain": [
       "array([-0.35584711, -0.35584711,  0.63759781,  0.63759781,  0.63759781,\n",
       "        0.63759781,  0.63759781,  0.63759781,  1.        ,  1.        ])"
      ]
     },
     "execution_count": 225,
     "metadata": {},
     "output_type": "execute_result"
    }
   ],
   "source": [
    "TD = TD_lambda(probToState,valueEstimates,rewards)\n",
    "TD.get_lambda()"
   ]
  },
  {
   "cell_type": "code",
   "execution_count": 226,
   "metadata": {},
   "outputs": [],
   "source": [
    "# 3"
   ]
  },
  {
   "cell_type": "code",
   "execution_count": 227,
   "metadata": {},
   "outputs": [],
   "source": [
    "probToState=0.64\n",
    "valueEstimates=[0.0,0.0,9.3,0.0,21.8,5.0,11.5]\n",
    "rewards=[-4.0,-2.2,3.8,6.5,-2.8,-4.1,7.4]"
   ]
  },
  {
   "cell_type": "code",
   "execution_count": 228,
   "metadata": {},
   "outputs": [
    {
     "data": {
      "text/plain": [
       "array([ 1.        , -0.61946694,  1.        ,  1.        ,  1.        ,\n",
       "        1.        ,  1.        ,  1.        ,  1.        ,  1.        ])"
      ]
     },
     "execution_count": 228,
     "metadata": {},
     "output_type": "execute_result"
    }
   ],
   "source": [
    "TD = TD_lambda(probToState,valueEstimates,rewards)\n",
    "TD.get_lambda()"
   ]
  },
  {
   "cell_type": "code",
   "execution_count": 229,
   "metadata": {},
   "outputs": [],
   "source": [
    "# 4 "
   ]
  },
  {
   "cell_type": "code",
   "execution_count": 230,
   "metadata": {},
   "outputs": [],
   "source": [
    "probToState=0.8\n",
    "valueEstimates=[0.0,14.7,-2.4,14.7,20.7,16.7,0.0]\n",
    "rewards=[-1.1,-1.6,6.1,-1.7,3.7,-1.5,9.5]"
   ]
  },
  {
   "cell_type": "code",
   "execution_count": 231,
   "metadata": {},
   "outputs": [
    {
     "data": {
      "text/plain": [
       "array([0.46985002, 0.46985002, 0.46985002, 0.46985002, 0.46985002,\n",
       "       0.46985002, 0.46985002, 0.46985002, 1.        , 1.        ])"
      ]
     },
     "execution_count": 231,
     "metadata": {},
     "output_type": "execute_result"
    }
   ],
   "source": [
    "TD = TD_lambda(probToState,valueEstimates,rewards)\n",
    "TD.get_lambda()"
   ]
  },
  {
   "cell_type": "code",
   "execution_count": 232,
   "metadata": {},
   "outputs": [],
   "source": [
    "# 5"
   ]
  },
  {
   "cell_type": "code",
   "execution_count": 233,
   "metadata": {},
   "outputs": [],
   "source": [
    "probToState=0.72\n",
    "valueEstimates=[0.0,0.0,23.7,17.1,22.9,7.4,0.0]\n",
    "rewards=[7.0,8.5,9.9,1.6,8.4,-0.7,-2.3]"
   ]
  },
  {
   "cell_type": "code",
   "execution_count": 234,
   "metadata": {},
   "outputs": [
    {
     "data": {
      "text/plain": [
       "array([0.30786869, 0.30786869, 0.30786869, 0.30786869, 0.30786869,\n",
       "       0.30786869, 0.30786869, 1.        , 1.        , 1.        ])"
      ]
     },
     "execution_count": 234,
     "metadata": {},
     "output_type": "execute_result"
    }
   ],
   "source": [
    "TD = TD_lambda(probToState,valueEstimates,rewards)\n",
    "TD.get_lambda()"
   ]
  },
  {
   "cell_type": "code",
   "execution_count": 235,
   "metadata": {},
   "outputs": [],
   "source": [
    "# 6"
   ]
  },
  {
   "cell_type": "code",
   "execution_count": 255,
   "metadata": {},
   "outputs": [],
   "source": [
    "probToState=1.0\n",
    "valueEstimates=[0.0,0.0,2.1,0.0,21.3,7.5,-0.3]\n",
    "rewards=[-4.5,-0.5,4.0,1.4,6.3,0.0,-2.2]"
   ]
  },
  {
   "cell_type": "code",
   "execution_count": 256,
   "metadata": {},
   "outputs": [
    {
     "data": {
      "text/plain": [
       "array([ 0.58137117,  0.58137117,  0.58137117,  0.58137117,  0.58137117,\n",
       "        0.58137117,  0.58137117, -0.55831148,  1.        ,  1.        ])"
      ]
     },
     "execution_count": 256,
     "metadata": {},
     "output_type": "execute_result"
    }
   ],
   "source": [
    "TD = TD_lambda(probToState,valueEstimates,rewards)\n",
    "TD.get_lambda()"
   ]
  },
  {
   "cell_type": "code",
   "execution_count": 238,
   "metadata": {},
   "outputs": [],
   "source": [
    "# 7"
   ]
  },
  {
   "cell_type": "code",
   "execution_count": 239,
   "metadata": {},
   "outputs": [],
   "source": [
    "probToState=0.79\n",
    "valueEstimates=[0.0,1.1,1.5,0.0,0.0,14.9,15.5]\n",
    "rewards=[9.7,-1.7,5.3,2.0,-0.5,0.4,0.0]"
   ]
  },
  {
   "cell_type": "code",
   "execution_count": 240,
   "metadata": {},
   "outputs": [
    {
     "data": {
      "text/plain": [
       "array([1., 1., 1., 1., 1., 1., 1., 1., 1., 1.])"
      ]
     },
     "execution_count": 240,
     "metadata": {},
     "output_type": "execute_result"
    }
   ],
   "source": [
    "TD = TD_lambda(probToState,valueEstimates,rewards)\n",
    "TD.get_lambda()"
   ]
  },
  {
   "cell_type": "code",
   "execution_count": 241,
   "metadata": {},
   "outputs": [],
   "source": [
    "# 8"
   ]
  },
  {
   "cell_type": "code",
   "execution_count": 242,
   "metadata": {},
   "outputs": [],
   "source": [
    "probToState=0.16\n",
    "valueEstimates=[0.0,0.0,0.0,-0.2,15.3,16.4,16.6]\n",
    "rewards=[3.2,0.0,6.9,3.8,-3.4,2.2,0.9]"
   ]
  },
  {
   "cell_type": "code",
   "execution_count": 243,
   "metadata": {},
   "outputs": [
    {
     "data": {
      "text/plain": [
       "array([-1.6871357,  1.       ,  1.       ,  1.       ,  1.       ,\n",
       "        1.       ,  1.       ,  1.       ,  1.       ,  1.       ])"
      ]
     },
     "execution_count": 243,
     "metadata": {},
     "output_type": "execute_result"
    }
   ],
   "source": [
    "TD = TD_lambda(probToState,valueEstimates,rewards)\n",
    "TD.get_lambda()"
   ]
  },
  {
   "cell_type": "code",
   "execution_count": 244,
   "metadata": {},
   "outputs": [],
   "source": [
    "# 9"
   ]
  },
  {
   "cell_type": "code",
   "execution_count": 245,
   "metadata": {},
   "outputs": [],
   "source": [
    "probToState=0.66\n",
    "valueEstimates=[0.0,1.7,14.3,0.0,20.7,8.9,22.0]\n",
    "rewards=[2.4,-3.0,1.9,0.0,7.2,-4.6,0.4]"
   ]
  },
  {
   "cell_type": "code",
   "execution_count": 246,
   "metadata": {},
   "outputs": [
    {
     "data": {
      "text/plain": [
       "array([ 1.        ,  1.        , -0.62985143,  1.        ,  1.        ,\n",
       "        1.        ,  1.        ,  1.        ,  1.        ,  1.        ])"
      ]
     },
     "execution_count": 246,
     "metadata": {},
     "output_type": "execute_result"
    }
   ],
   "source": [
    "TD = TD_lambda(probToState,valueEstimates,rewards)\n",
    "TD.get_lambda()"
   ]
  },
  {
   "cell_type": "code",
   "execution_count": 248,
   "metadata": {},
   "outputs": [],
   "source": [
    "# 10"
   ]
  },
  {
   "cell_type": "code",
   "execution_count": 249,
   "metadata": {},
   "outputs": [],
   "source": [
    "probToState=0.4\n",
    "valueEstimates=[0.0,0.0,2.1,13.9,8.2,0.0,7.4]\n",
    "rewards=[-4.4,-3.3,1.7,0.5,0.0,2.1,4.3]"
   ]
  },
  {
   "cell_type": "code",
   "execution_count": 250,
   "metadata": {},
   "outputs": [
    {
     "data": {
      "text/plain": [
       "array([1., 1., 1., 1., 1., 1., 1., 1., 1., 1.])"
      ]
     },
     "execution_count": 250,
     "metadata": {},
     "output_type": "execute_result"
    }
   ],
   "source": [
    "TD = TD_lambda(probToState,valueEstimates,rewards)\n",
    "TD.get_lambda()"
   ]
  }
 ],
 "metadata": {
  "kernelspec": {
   "display_name": "Python 3",
   "language": "python",
   "name": "python3"
  },
  "language_info": {
   "codemirror_mode": {
    "name": "ipython",
    "version": 3
   },
   "file_extension": ".py",
   "mimetype": "text/x-python",
   "name": "python",
   "nbconvert_exporter": "python",
   "pygments_lexer": "ipython3",
   "version": "3.6.5"
  }
 },
 "nbformat": 4,
 "nbformat_minor": 2
}
